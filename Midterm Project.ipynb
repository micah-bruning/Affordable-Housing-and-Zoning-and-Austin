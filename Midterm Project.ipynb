{
 "cells": [
  {
   "cell_type": "markdown",
   "id": "be214509-5036-4f8f-a518-5255dbc57d95",
   "metadata": {},
   "source": [
    "# Zoning and Affordable Housing in the City of Austin\n",
    "\n",
    "\n",
    "\n",
    "\n",
    "# **Background**\n",
    "\n",
    "The affordable housing crisis in the United States has recentered the issue of land-use designation in urban policy discourse. The pervasiveness of single-family zones, zones which restrict development to single-unit dwellings, creates a scarcity for lots which can be developed for multi-unit, affordable housing. \n",
    "\n",
    "This project explores the relationship between land-use designations and the presence of affordable housing in the city of Austin. I chose Austin primarily because it's data was easily accessible, but it also makes for a good case study due to its rapid growth over the past decade. The main question I want to answer is *how does the proportion of single-family zoning in a given zip code relate to the quantity of affordable housing units?*\n",
    "\n",
    "# **Data Overview**\n",
    "\n",
    "The two main datasets used in the analysis are both from the City of Austin's website. The first dataset, called *zoning*, contains the zoning type for over 250,000 addresses in the city. The second dataset, called *housing*, contains the addresses and zip codes of affordable housing buildings, as well as how many total units there are in a given building. There are roughly 2,000 records in the *housing* dataset. The two datasets are joined to form one that contains the total number of units and zoning information for each zip code.\n",
    "\n",
    "*Housing* dataset: https://data.austintexas.gov/Housing-and-Real-Estate/City-of-Austin-Affordable-Housing-Inventory/x5p7-qyuv\n",
    "\n",
    "*Zoning* dataset: https://data.austintexas.gov/Locations-and-Maps/Zoning-by-Address/nbzi-qabm\n"
   ]
  },
  {
   "cell_type": "code",
   "execution_count": 2,
   "id": "a81341ca-1014-4743-9cb1-1f9e877b2423",
   "metadata": {},
   "outputs": [],
   "source": [
    "library(tidyr)\n",
    "library(dplyr)\n",
    "library(stringr)\n",
    "library(docstring)\n",
    "library(ggplot2)\n",
    "library(patchwork)\n",
    "options(warn = -1)"
   ]
  },
  {
   "cell_type": "code",
   "execution_count": 3,
   "id": "52c65ba5-0ce2-4993-9aeb-a36f91103aaf",
   "metadata": {},
   "outputs": [
    {
     "data": {
      "text/html": [
       "<table class=\"dataframe\">\n",
       "<caption>A data.frame: 6 × 4</caption>\n",
       "<thead>\n",
       "\t<tr><th></th><th scope=col>address</th><th scope=col>zoning_type</th><th scope=col>base_zone</th><th scope=col>base_zone_cat</th></tr>\n",
       "\t<tr><th></th><th scope=col>&lt;chr&gt;</th><th scope=col>&lt;chr&gt;</th><th scope=col>&lt;chr&gt;</th><th scope=col>&lt;chr&gt;</th></tr>\n",
       "</thead>\n",
       "<tbody>\n",
       "\t<tr><th scope=row>1</th><td>9420 EDMUNDSBURY DR    </td><td>SF-4A  </td><td>SF-4A</td><td>Single Family Small Lot </td></tr>\n",
       "\t<tr><th scope=row>2</th><td>8038 MESA DR           </td><td>LR     </td><td>LR   </td><td>Neighborhood Commercial </td></tr>\n",
       "\t<tr><th scope=row>3</th><td>1401 TREADWELL ST      </td><td>GR-V   </td><td>GR   </td><td>Community Commercial    </td></tr>\n",
       "\t<tr><th scope=row>4</th><td>8805 MILTON LEASE DR   </td><td>SF-4A  </td><td>SF-4A</td><td>Single Family Small Lot </td></tr>\n",
       "\t<tr><th scope=row>5</th><td>9704 MURMURING CREEK DR</td><td>SF-1-NP</td><td>SF-1 </td><td>Single Family Large Lot </td></tr>\n",
       "\t<tr><th scope=row>6</th><td>9716 SPANISH WELLS DR  </td><td>PUD    </td><td>PUD  </td><td>Planned Unit Development</td></tr>\n",
       "</tbody>\n",
       "</table>\n"
      ],
      "text/latex": [
       "A data.frame: 6 × 4\n",
       "\\begin{tabular}{r|llll}\n",
       "  & address & zoning\\_type & base\\_zone & base\\_zone\\_cat\\\\\n",
       "  & <chr> & <chr> & <chr> & <chr>\\\\\n",
       "\\hline\n",
       "\t1 & 9420 EDMUNDSBURY DR     & SF-4A   & SF-4A & Single Family Small Lot \\\\\n",
       "\t2 & 8038 MESA DR            & LR      & LR    & Neighborhood Commercial \\\\\n",
       "\t3 & 1401 TREADWELL ST       & GR-V    & GR    & Community Commercial    \\\\\n",
       "\t4 & 8805 MILTON LEASE DR    & SF-4A   & SF-4A & Single Family Small Lot \\\\\n",
       "\t5 & 9704 MURMURING CREEK DR & SF-1-NP & SF-1  & Single Family Large Lot \\\\\n",
       "\t6 & 9716 SPANISH WELLS DR   & PUD     & PUD   & Planned Unit Development\\\\\n",
       "\\end{tabular}\n"
      ],
      "text/markdown": [
       "\n",
       "A data.frame: 6 × 4\n",
       "\n",
       "| <!--/--> | address &lt;chr&gt; | zoning_type &lt;chr&gt; | base_zone &lt;chr&gt; | base_zone_cat &lt;chr&gt; |\n",
       "|---|---|---|---|---|\n",
       "| 1 | 9420 EDMUNDSBURY DR     | SF-4A   | SF-4A | Single Family Small Lot  |\n",
       "| 2 | 8038 MESA DR            | LR      | LR    | Neighborhood Commercial  |\n",
       "| 3 | 1401 TREADWELL ST       | GR-V    | GR    | Community Commercial     |\n",
       "| 4 | 8805 MILTON LEASE DR    | SF-4A   | SF-4A | Single Family Small Lot  |\n",
       "| 5 | 9704 MURMURING CREEK DR | SF-1-NP | SF-1  | Single Family Large Lot  |\n",
       "| 6 | 9716 SPANISH WELLS DR   | PUD     | PUD   | Planned Unit Development |\n",
       "\n"
      ],
      "text/plain": [
       "  address                 zoning_type base_zone base_zone_cat           \n",
       "1 9420 EDMUNDSBURY DR     SF-4A       SF-4A     Single Family Small Lot \n",
       "2 8038 MESA DR            LR          LR        Neighborhood Commercial \n",
       "3 1401 TREADWELL ST       GR-V        GR        Community Commercial    \n",
       "4 8805 MILTON LEASE DR    SF-4A       SF-4A     Single Family Small Lot \n",
       "5 9704 MURMURING CREEK DR SF-1-NP     SF-1      Single Family Large Lot \n",
       "6 9716 SPANISH WELLS DR   PUD         PUD       Planned Unit Development"
      ]
     },
     "metadata": {},
     "output_type": "display_data"
    },
    {
     "data": {
      "text/html": [
       "<style>\n",
       ".list-inline {list-style: none; margin:0; padding: 0}\n",
       ".list-inline>li {display: inline-block}\n",
       ".list-inline>li:not(:last-child)::after {content: \"\\00b7\"; padding: 0 .5ex}\n",
       "</style>\n",
       "<ol class=list-inline><li>254591</li><li>4</li></ol>\n"
      ],
      "text/latex": [
       "\\begin{enumerate*}\n",
       "\\item 254591\n",
       "\\item 4\n",
       "\\end{enumerate*}\n"
      ],
      "text/markdown": [
       "1. 254591\n",
       "2. 4\n",
       "\n",
       "\n"
      ],
      "text/plain": [
       "[1] 254591      4"
      ]
     },
     "metadata": {},
     "output_type": "display_data"
    },
    {
     "data": {
      "text/html": [
       "<table class=\"dataframe\">\n",
       "<caption>A data.frame: 6 × 5</caption>\n",
       "<thead>\n",
       "\t<tr><th></th><th scope=col>address</th><th scope=col>zip_code</th><th scope=col>total_units</th><th scope=col>loc</th><th scope=col>city_amt</th></tr>\n",
       "\t<tr><th></th><th scope=col>&lt;chr&gt;</th><th scope=col>&lt;int&gt;</th><th scope=col>&lt;int&gt;</th><th scope=col>&lt;chr&gt;</th><th scope=col>&lt;dbl&gt;</th></tr>\n",
       "</thead>\n",
       "<tbody>\n",
       "\t<tr><th scope=row>1</th><td>5811 Sweeney Circle    </td><td>78723</td><td>  4</td><td>(30.305561, -97.678962)              </td><td>  19789.50</td></tr>\n",
       "\t<tr><th scope=row>2</th><td>702 Plumpton Drive     </td><td>78745</td><td>  3</td><td>(30.1950468158668, -97.7908219142665)</td><td>  23966.67</td></tr>\n",
       "\t<tr><th scope=row>3</th><td>2014 Covered Wagon Pass</td><td>78744</td><td>  3</td><td>(30.1932223225175, -97.7587020302195)</td><td>  50000.00</td></tr>\n",
       "\t<tr><th scope=row>4</th><td>2501 S IH-35           </td><td>78741</td><td>120</td><td>(30.2314602729335, -97.7413954956676)</td><td>2000000.00</td></tr>\n",
       "\t<tr><th scope=row>5</th><td>Undisclosed            </td><td>78723</td><td>  1</td><td>(30.311880379676, -97.6826801259271) </td><td>      0.00</td></tr>\n",
       "\t<tr><th scope=row>6</th><td>4320 S Congress Avenue </td><td>78745</td><td>238</td><td>(30.2190337978803, -97.7671845964581)</td><td>3000000.00</td></tr>\n",
       "</tbody>\n",
       "</table>\n"
      ],
      "text/latex": [
       "A data.frame: 6 × 5\n",
       "\\begin{tabular}{r|lllll}\n",
       "  & address & zip\\_code & total\\_units & loc & city\\_amt\\\\\n",
       "  & <chr> & <int> & <int> & <chr> & <dbl>\\\\\n",
       "\\hline\n",
       "\t1 & 5811 Sweeney Circle     & 78723 &   4 & (30.305561, -97.678962)               &   19789.50\\\\\n",
       "\t2 & 702 Plumpton Drive      & 78745 &   3 & (30.1950468158668, -97.7908219142665) &   23966.67\\\\\n",
       "\t3 & 2014 Covered Wagon Pass & 78744 &   3 & (30.1932223225175, -97.7587020302195) &   50000.00\\\\\n",
       "\t4 & 2501 S IH-35            & 78741 & 120 & (30.2314602729335, -97.7413954956676) & 2000000.00\\\\\n",
       "\t5 & Undisclosed             & 78723 &   1 & (30.311880379676, -97.6826801259271)  &       0.00\\\\\n",
       "\t6 & 4320 S Congress Avenue  & 78745 & 238 & (30.2190337978803, -97.7671845964581) & 3000000.00\\\\\n",
       "\\end{tabular}\n"
      ],
      "text/markdown": [
       "\n",
       "A data.frame: 6 × 5\n",
       "\n",
       "| <!--/--> | address &lt;chr&gt; | zip_code &lt;int&gt; | total_units &lt;int&gt; | loc &lt;chr&gt; | city_amt &lt;dbl&gt; |\n",
       "|---|---|---|---|---|---|\n",
       "| 1 | 5811 Sweeney Circle     | 78723 |   4 | (30.305561, -97.678962)               |   19789.50 |\n",
       "| 2 | 702 Plumpton Drive      | 78745 |   3 | (30.1950468158668, -97.7908219142665) |   23966.67 |\n",
       "| 3 | 2014 Covered Wagon Pass | 78744 |   3 | (30.1932223225175, -97.7587020302195) |   50000.00 |\n",
       "| 4 | 2501 S IH-35            | 78741 | 120 | (30.2314602729335, -97.7413954956676) | 2000000.00 |\n",
       "| 5 | Undisclosed             | 78723 |   1 | (30.311880379676, -97.6826801259271)  |       0.00 |\n",
       "| 6 | 4320 S Congress Avenue  | 78745 | 238 | (30.2190337978803, -97.7671845964581) | 3000000.00 |\n",
       "\n"
      ],
      "text/plain": [
       "  address                 zip_code total_units\n",
       "1 5811 Sweeney Circle     78723      4        \n",
       "2 702 Plumpton Drive      78745      3        \n",
       "3 2014 Covered Wagon Pass 78744      3        \n",
       "4 2501 S IH-35            78741    120        \n",
       "5 Undisclosed             78723      1        \n",
       "6 4320 S Congress Avenue  78745    238        \n",
       "  loc                                   city_amt  \n",
       "1 (30.305561, -97.678962)                 19789.50\n",
       "2 (30.1950468158668, -97.7908219142665)   23966.67\n",
       "3 (30.1932223225175, -97.7587020302195)   50000.00\n",
       "4 (30.2314602729335, -97.7413954956676) 2000000.00\n",
       "5 (30.311880379676, -97.6826801259271)        0.00\n",
       "6 (30.2190337978803, -97.7671845964581) 3000000.00"
      ]
     },
     "metadata": {},
     "output_type": "display_data"
    },
    {
     "data": {
      "text/html": [
       "<style>\n",
       ".list-inline {list-style: none; margin:0; padding: 0}\n",
       ".list-inline>li {display: inline-block}\n",
       ".list-inline>li:not(:last-child)::after {content: \"\\00b7\"; padding: 0 .5ex}\n",
       "</style>\n",
       "<ol class=list-inline><li>2170</li><li>5</li></ol>\n"
      ],
      "text/latex": [
       "\\begin{enumerate*}\n",
       "\\item 2170\n",
       "\\item 5\n",
       "\\end{enumerate*}\n"
      ],
      "text/markdown": [
       "1. 2170\n",
       "2. 5\n",
       "\n",
       "\n"
      ],
      "text/plain": [
       "[1] 2170    5"
      ]
     },
     "metadata": {},
     "output_type": "display_data"
    }
   ],
   "source": [
    "#The Data\n",
    "zoning <- read.csv(\"austin_zoning.csv\")\n",
    "housing <- read.csv(\"austin_affordable_housing.csv\")\n",
    "\n",
    "#Select and rename columns\n",
    "zoning <- zoning %>%\n",
    "    select(FULL_STREET_NAME, ZONING_ZTYPE, BASE_ZONE, BASE_ZONE_CATEGORY) %>%\n",
    "    rename(address = FULL_STREET_NAME, zoning_type = ZONING_ZTYPE, base_zone = BASE_ZONE, \n",
    "            base_zone_cat = BASE_ZONE_CATEGORY)  \n",
    "\n",
    "housing <- housing %>%\n",
    "    select(Address, Zip.Code, Total.Units, Location, City.Amount) %>%\n",
    "    rename(address = Address, zip_code = Zip.Code, total_units = Total.Units, loc = Location, \n",
    "           city_amt = City.Amount) \n",
    "\n",
    "#Zoning\n",
    "head(zoning)\n",
    "dim(zoning)\n",
    "\n",
    "#Housing\n",
    "head(housing)\n",
    "dim(housing)"
   ]
  },
  {
   "cell_type": "markdown",
   "id": "7c7407f4-a49a-45a9-8ec1-11c66b558e81",
   "metadata": {},
   "source": [
    "Initially, I attempted to retrieve the zip code for every address in the *zoning* dataset in order to join the two by zip code. This was possible for a subset of records using USPS's API for address verification, but with 250,000 records it was nearly impossible. Instead, the street addresses in the *housing* dataset are reformatted to match the form used in the *zoning* dataset using the function *change_abrev*. The data frames are then joined by the street addresses."
   ]
  },
  {
   "cell_type": "code",
   "execution_count": 4,
   "id": "869e890e-679c-45d6-950f-50ad9c6162f1",
   "metadata": {},
   "outputs": [
    {
     "data": {
      "text/html": [
       "<style>\n",
       ".list-inline {list-style: none; margin:0; padding: 0}\n",
       ".list-inline>li {display: inline-block}\n",
       ".list-inline>li:not(:last-child)::after {content: \"\\00b7\"; padding: 0 .5ex}\n",
       "</style>\n",
       "<ol class=list-inline><li>433</li><li>8</li></ol>\n"
      ],
      "text/latex": [
       "\\begin{enumerate*}\n",
       "\\item 433\n",
       "\\item 8\n",
       "\\end{enumerate*}\n"
      ],
      "text/markdown": [
       "1. 433\n",
       "2. 8\n",
       "\n",
       "\n"
      ],
      "text/plain": [
       "[1] 433   8"
      ]
     },
     "metadata": {},
     "output_type": "display_data"
    },
    {
     "data": {
      "text/html": [
       "<table class=\"dataframe\">\n",
       "<caption>A data.frame: 6 × 8</caption>\n",
       "<thead>\n",
       "\t<tr><th></th><th scope=col>address</th><th scope=col>zip_code</th><th scope=col>total_units</th><th scope=col>loc</th><th scope=col>city_amt</th><th scope=col>zoning_type</th><th scope=col>base_zone</th><th scope=col>base_zone_cat</th></tr>\n",
       "\t<tr><th></th><th scope=col>&lt;chr&gt;</th><th scope=col>&lt;int&gt;</th><th scope=col>&lt;int&gt;</th><th scope=col>&lt;chr&gt;</th><th scope=col>&lt;dbl&gt;</th><th scope=col>&lt;chr&gt;</th><th scope=col>&lt;chr&gt;</th><th scope=col>&lt;chr&gt;</th></tr>\n",
       "</thead>\n",
       "<tbody>\n",
       "\t<tr><th scope=row>1</th><td>5811 Sweeney Cir       </td><td>78723</td><td>  4</td><td>(30.305561, -97.678962)              </td><td>  19789.50</td><td>MF-3-NP </td><td>MF-3</td><td>Multi-Family Moderate Density</td></tr>\n",
       "\t<tr><th scope=row>2</th><td>702 Plumpton Dr        </td><td>78745</td><td>  3</td><td>(30.1950468158668, -97.7908219142665)</td><td>  23966.67</td><td>SF-3    </td><td>SF-3</td><td>Single Family Residence      </td></tr>\n",
       "\t<tr><th scope=row>3</th><td>2014 Covered Wagon Pass</td><td>78744</td><td>  3</td><td>(30.1932223225175, -97.7587020302195)</td><td>  50000.00</td><td>SF-3-NP </td><td>SF-3</td><td>Single Family Residence      </td></tr>\n",
       "\t<tr><th scope=row>4</th><td>4320 S Congress Ave    </td><td>78745</td><td>238</td><td>(30.2190337978803, -97.7671845964581)</td><td>3000000.00</td><td>CS-MU-NP</td><td>CS  </td><td>General Commercial Services  </td></tr>\n",
       "\t<tr><th scope=row>5</th><td>5611 Teri Rd           </td><td>78744</td><td>  3</td><td>(30.1927525514336, -97.7338198423955)</td><td>  50000.00</td><td>SF-2-NP </td><td>SF-2</td><td>Single Family Standard Lot   </td></tr>\n",
       "\t<tr><th scope=row>6</th><td>2102 Chicon St         </td><td>78722</td><td>  1</td><td>(30.282141, -97.721947)              </td><td>  36666.67</td><td>SF-3-NP </td><td>SF-3</td><td>Single Family Residence      </td></tr>\n",
       "</tbody>\n",
       "</table>\n"
      ],
      "text/latex": [
       "A data.frame: 6 × 8\n",
       "\\begin{tabular}{r|llllllll}\n",
       "  & address & zip\\_code & total\\_units & loc & city\\_amt & zoning\\_type & base\\_zone & base\\_zone\\_cat\\\\\n",
       "  & <chr> & <int> & <int> & <chr> & <dbl> & <chr> & <chr> & <chr>\\\\\n",
       "\\hline\n",
       "\t1 & 5811 Sweeney Cir        & 78723 &   4 & (30.305561, -97.678962)               &   19789.50 & MF-3-NP  & MF-3 & Multi-Family Moderate Density\\\\\n",
       "\t2 & 702 Plumpton Dr         & 78745 &   3 & (30.1950468158668, -97.7908219142665) &   23966.67 & SF-3     & SF-3 & Single Family Residence      \\\\\n",
       "\t3 & 2014 Covered Wagon Pass & 78744 &   3 & (30.1932223225175, -97.7587020302195) &   50000.00 & SF-3-NP  & SF-3 & Single Family Residence      \\\\\n",
       "\t4 & 4320 S Congress Ave     & 78745 & 238 & (30.2190337978803, -97.7671845964581) & 3000000.00 & CS-MU-NP & CS   & General Commercial Services  \\\\\n",
       "\t5 & 5611 Teri Rd            & 78744 &   3 & (30.1927525514336, -97.7338198423955) &   50000.00 & SF-2-NP  & SF-2 & Single Family Standard Lot   \\\\\n",
       "\t6 & 2102 Chicon St          & 78722 &   1 & (30.282141, -97.721947)               &   36666.67 & SF-3-NP  & SF-3 & Single Family Residence      \\\\\n",
       "\\end{tabular}\n"
      ],
      "text/markdown": [
       "\n",
       "A data.frame: 6 × 8\n",
       "\n",
       "| <!--/--> | address &lt;chr&gt; | zip_code &lt;int&gt; | total_units &lt;int&gt; | loc &lt;chr&gt; | city_amt &lt;dbl&gt; | zoning_type &lt;chr&gt; | base_zone &lt;chr&gt; | base_zone_cat &lt;chr&gt; |\n",
       "|---|---|---|---|---|---|---|---|---|\n",
       "| 1 | 5811 Sweeney Cir        | 78723 |   4 | (30.305561, -97.678962)               |   19789.50 | MF-3-NP  | MF-3 | Multi-Family Moderate Density |\n",
       "| 2 | 702 Plumpton Dr         | 78745 |   3 | (30.1950468158668, -97.7908219142665) |   23966.67 | SF-3     | SF-3 | Single Family Residence       |\n",
       "| 3 | 2014 Covered Wagon Pass | 78744 |   3 | (30.1932223225175, -97.7587020302195) |   50000.00 | SF-3-NP  | SF-3 | Single Family Residence       |\n",
       "| 4 | 4320 S Congress Ave     | 78745 | 238 | (30.2190337978803, -97.7671845964581) | 3000000.00 | CS-MU-NP | CS   | General Commercial Services   |\n",
       "| 5 | 5611 Teri Rd            | 78744 |   3 | (30.1927525514336, -97.7338198423955) |   50000.00 | SF-2-NP  | SF-2 | Single Family Standard Lot    |\n",
       "| 6 | 2102 Chicon St          | 78722 |   1 | (30.282141, -97.721947)               |   36666.67 | SF-3-NP  | SF-3 | Single Family Residence       |\n",
       "\n"
      ],
      "text/plain": [
       "  address                 zip_code total_units\n",
       "1 5811 Sweeney Cir        78723      4        \n",
       "2 702 Plumpton Dr         78745      3        \n",
       "3 2014 Covered Wagon Pass 78744      3        \n",
       "4 4320 S Congress Ave     78745    238        \n",
       "5 5611 Teri Rd            78744      3        \n",
       "6 2102 Chicon St          78722      1        \n",
       "  loc                                   city_amt   zoning_type base_zone\n",
       "1 (30.305561, -97.678962)                 19789.50 MF-3-NP     MF-3     \n",
       "2 (30.1950468158668, -97.7908219142665)   23966.67 SF-3        SF-3     \n",
       "3 (30.1932223225175, -97.7587020302195)   50000.00 SF-3-NP     SF-3     \n",
       "4 (30.2190337978803, -97.7671845964581) 3000000.00 CS-MU-NP    CS       \n",
       "5 (30.1927525514336, -97.7338198423955)   50000.00 SF-2-NP     SF-2     \n",
       "6 (30.282141, -97.721947)                 36666.67 SF-3-NP     SF-3     \n",
       "  base_zone_cat                \n",
       "1 Multi-Family Moderate Density\n",
       "2 Single Family Residence      \n",
       "3 Single Family Residence      \n",
       "4 General Commercial Services  \n",
       "5 Single Family Standard Lot   \n",
       "6 Single Family Residence      "
      ]
     },
     "metadata": {},
     "output_type": "display_data"
    }
   ],
   "source": [
    "### More Data cleaning and formatting ###\n",
    "\n",
    "#Remove undisclosed addresses in housing\n",
    "housing <- housing %>%\n",
    "    filter(address != \"Undisclosed\")\n",
    "\n",
    "#Title case the addresses in zoning\n",
    "zoning$address <- str_to_title(zoning$address)\n",
    "\n",
    "#Format Street names\n",
    "change_abrev <- function(address) {\n",
    "    #'Reformats a street address use abbreviations. E.g. \"Main Street\" -> \"Main St\"\n",
    "    #'@param address character\n",
    "    #'@return new address with street abbreviation (character)\n",
    "    \n",
    "    #Get the address type. e.g. street, drive, etc.\n",
    "    street_type <- word(address, -1)\n",
    "    \n",
    "    #Convert to corresponding value\n",
    "    st_abrev <- case_when(\n",
    "        street_type == \"Street\" ~ \"St\",\n",
    "        street_type == \"Road\" ~ \"Rd\",\n",
    "        street_type == \"Drive\" ~ \"Dr\",\n",
    "        street_type == \"Avenue\" ~ \"Ave\",\n",
    "        street_type == \"Circle\" ~ \"Cir\",\n",
    "        street_type == \"Boulevard\" ~ \"Blvd\",\n",
    "        street_type == \"Trail\" ~ \"Trl\",\n",
    "        street_type == \"Lane\" ~ \"Ln\", \n",
    "        street_type == \"Place\" ~ \"Pl\", \n",
    "        street_type == \"Parkway\" ~ \"Pkwy\",\n",
    "        TRUE ~ street_type\n",
    "    )\n",
    "    \n",
    "    #If a change was made reformat the return address\n",
    "    if(street_type != st_abrev){\n",
    "        add_length <- str_count(address, \"\\\\w+\") - 1\n",
    "        no_st <- paste(word(address, 1:add_length), collapse=\" \")\n",
    "        return(paste(no_st, st_abrev, collapse=\" \"))   \n",
    "    }\n",
    "    \n",
    "    return (address)\n",
    "}\n",
    "\n",
    "#Applying the function to the addresses, suppress warning from paste\n",
    "options(warn=-1)\n",
    "housing$address <- as.character(lapply(housing$address,change_abrev))\n",
    "\n",
    "#Demonstrating use of the function in a for-loop\n",
    "for(i in 1:length(housing$address)){\n",
    "    housing[i,1] <- change_abrev(housing[i,1])\n",
    "}\n",
    "\n",
    "### Joining by street addresses ###\n",
    "\n",
    "#Format street addresses for join\n",
    "z_and_h <- left_join(housing, zoning, by=\"address\")\n",
    "#Filter out rows where no match is, reformat zoning types\n",
    "z_and_h <- z_and_h %>%\n",
    "    filter(base_zone != 'NA') \n",
    "\n",
    "#View Data\n",
    "dim(z_and_h)\n",
    "head(z_and_h)"
   ]
  },
  {
   "cell_type": "markdown",
   "id": "be094a6c-6852-4b3e-bb3b-764e49318bf5",
   "metadata": {},
   "source": [
    "Joining by street address is less ideal than joining by zip code because there is likely more data lost. Reformatting the addresses in the *housing* dataframe requires case-checking every street abbreviation. After a left-join between the data frames by street address there were over 100 rows that did not have a match. These rows are filtered out. \n",
    "\n",
    "A final step in formatting the data is to make the zoning categories more readable. Using the City of Austin's zoning code designations, the function *change_zone* case-checks and converts the passed in zoning argument to a more readable form. Not every zone type was reasonably able to be accounted for, so the most prevalent ones were converted. "
   ]
  },
  {
   "cell_type": "code",
   "execution_count": 5,
   "id": "94a676eb-61fa-4b8d-96a9-009f0b8d3d60",
   "metadata": {},
   "outputs": [
    {
     "data": {
      "text/html": [
       "<table class=\"dataframe\">\n",
       "<caption>A data.frame: 6 × 8</caption>\n",
       "<thead>\n",
       "\t<tr><th></th><th scope=col>address</th><th scope=col>zip_code</th><th scope=col>total_units</th><th scope=col>loc</th><th scope=col>city_amt</th><th scope=col>zoning_type</th><th scope=col>base_zone</th><th scope=col>base_zone_cat</th></tr>\n",
       "\t<tr><th></th><th scope=col>&lt;chr&gt;</th><th scope=col>&lt;int&gt;</th><th scope=col>&lt;int&gt;</th><th scope=col>&lt;chr&gt;</th><th scope=col>&lt;dbl&gt;</th><th scope=col>&lt;chr&gt;</th><th scope=col>&lt;chr&gt;</th><th scope=col>&lt;chr&gt;</th></tr>\n",
       "</thead>\n",
       "<tbody>\n",
       "\t<tr><th scope=row>1</th><td>5811 Sweeney Cir       </td><td>78723</td><td>  4</td><td>(30.305561, -97.678962)              </td><td>  19789.50</td><td>MF-3-NP </td><td>Multi Family </td><td>Multi-Family Moderate Density</td></tr>\n",
       "\t<tr><th scope=row>2</th><td>702 Plumpton Dr        </td><td>78745</td><td>  3</td><td>(30.1950468158668, -97.7908219142665)</td><td>  23966.67</td><td>SF-3    </td><td>Single Family</td><td>Single Family Residence      </td></tr>\n",
       "\t<tr><th scope=row>3</th><td>2014 Covered Wagon Pass</td><td>78744</td><td>  3</td><td>(30.1932223225175, -97.7587020302195)</td><td>  50000.00</td><td>SF-3-NP </td><td>Single Family</td><td>Single Family Residence      </td></tr>\n",
       "\t<tr><th scope=row>4</th><td>4320 S Congress Ave    </td><td>78745</td><td>238</td><td>(30.2190337978803, -97.7671845964581)</td><td>3000000.00</td><td>CS-MU-NP</td><td>Commercial   </td><td>General Commercial Services  </td></tr>\n",
       "\t<tr><th scope=row>5</th><td>5611 Teri Rd           </td><td>78744</td><td>  3</td><td>(30.1927525514336, -97.7338198423955)</td><td>  50000.00</td><td>SF-2-NP </td><td>Single Family</td><td>Single Family Standard Lot   </td></tr>\n",
       "\t<tr><th scope=row>6</th><td>2102 Chicon St         </td><td>78722</td><td>  1</td><td>(30.282141, -97.721947)              </td><td>  36666.67</td><td>SF-3-NP </td><td>Single Family</td><td>Single Family Residence      </td></tr>\n",
       "</tbody>\n",
       "</table>\n"
      ],
      "text/latex": [
       "A data.frame: 6 × 8\n",
       "\\begin{tabular}{r|llllllll}\n",
       "  & address & zip\\_code & total\\_units & loc & city\\_amt & zoning\\_type & base\\_zone & base\\_zone\\_cat\\\\\n",
       "  & <chr> & <int> & <int> & <chr> & <dbl> & <chr> & <chr> & <chr>\\\\\n",
       "\\hline\n",
       "\t1 & 5811 Sweeney Cir        & 78723 &   4 & (30.305561, -97.678962)               &   19789.50 & MF-3-NP  & Multi Family  & Multi-Family Moderate Density\\\\\n",
       "\t2 & 702 Plumpton Dr         & 78745 &   3 & (30.1950468158668, -97.7908219142665) &   23966.67 & SF-3     & Single Family & Single Family Residence      \\\\\n",
       "\t3 & 2014 Covered Wagon Pass & 78744 &   3 & (30.1932223225175, -97.7587020302195) &   50000.00 & SF-3-NP  & Single Family & Single Family Residence      \\\\\n",
       "\t4 & 4320 S Congress Ave     & 78745 & 238 & (30.2190337978803, -97.7671845964581) & 3000000.00 & CS-MU-NP & Commercial    & General Commercial Services  \\\\\n",
       "\t5 & 5611 Teri Rd            & 78744 &   3 & (30.1927525514336, -97.7338198423955) &   50000.00 & SF-2-NP  & Single Family & Single Family Standard Lot   \\\\\n",
       "\t6 & 2102 Chicon St          & 78722 &   1 & (30.282141, -97.721947)               &   36666.67 & SF-3-NP  & Single Family & Single Family Residence      \\\\\n",
       "\\end{tabular}\n"
      ],
      "text/markdown": [
       "\n",
       "A data.frame: 6 × 8\n",
       "\n",
       "| <!--/--> | address &lt;chr&gt; | zip_code &lt;int&gt; | total_units &lt;int&gt; | loc &lt;chr&gt; | city_amt &lt;dbl&gt; | zoning_type &lt;chr&gt; | base_zone &lt;chr&gt; | base_zone_cat &lt;chr&gt; |\n",
       "|---|---|---|---|---|---|---|---|---|\n",
       "| 1 | 5811 Sweeney Cir        | 78723 |   4 | (30.305561, -97.678962)               |   19789.50 | MF-3-NP  | Multi Family  | Multi-Family Moderate Density |\n",
       "| 2 | 702 Plumpton Dr         | 78745 |   3 | (30.1950468158668, -97.7908219142665) |   23966.67 | SF-3     | Single Family | Single Family Residence       |\n",
       "| 3 | 2014 Covered Wagon Pass | 78744 |   3 | (30.1932223225175, -97.7587020302195) |   50000.00 | SF-3-NP  | Single Family | Single Family Residence       |\n",
       "| 4 | 4320 S Congress Ave     | 78745 | 238 | (30.2190337978803, -97.7671845964581) | 3000000.00 | CS-MU-NP | Commercial    | General Commercial Services   |\n",
       "| 5 | 5611 Teri Rd            | 78744 |   3 | (30.1927525514336, -97.7338198423955) |   50000.00 | SF-2-NP  | Single Family | Single Family Standard Lot    |\n",
       "| 6 | 2102 Chicon St          | 78722 |   1 | (30.282141, -97.721947)               |   36666.67 | SF-3-NP  | Single Family | Single Family Residence       |\n",
       "\n"
      ],
      "text/plain": [
       "  address                 zip_code total_units\n",
       "1 5811 Sweeney Cir        78723      4        \n",
       "2 702 Plumpton Dr         78745      3        \n",
       "3 2014 Covered Wagon Pass 78744      3        \n",
       "4 4320 S Congress Ave     78745    238        \n",
       "5 5611 Teri Rd            78744      3        \n",
       "6 2102 Chicon St          78722      1        \n",
       "  loc                                   city_amt   zoning_type base_zone    \n",
       "1 (30.305561, -97.678962)                 19789.50 MF-3-NP     Multi Family \n",
       "2 (30.1950468158668, -97.7908219142665)   23966.67 SF-3        Single Family\n",
       "3 (30.1932223225175, -97.7587020302195)   50000.00 SF-3-NP     Single Family\n",
       "4 (30.2190337978803, -97.7671845964581) 3000000.00 CS-MU-NP    Commercial   \n",
       "5 (30.1927525514336, -97.7338198423955)   50000.00 SF-2-NP     Single Family\n",
       "6 (30.282141, -97.721947)                 36666.67 SF-3-NP     Single Family\n",
       "  base_zone_cat                \n",
       "1 Multi-Family Moderate Density\n",
       "2 Single Family Residence      \n",
       "3 Single Family Residence      \n",
       "4 General Commercial Services  \n",
       "5 Single Family Standard Lot   \n",
       "6 Single Family Residence      "
      ]
     },
     "metadata": {},
     "output_type": "display_data"
    },
    {
     "data": {
      "text/html": [
       "<style>\n",
       ".list-inline {list-style: none; margin:0; padding: 0}\n",
       ".list-inline>li {display: inline-block}\n",
       ".list-inline>li:not(:last-child)::after {content: \"\\00b7\"; padding: 0 .5ex}\n",
       "</style>\n",
       "<ol class=list-inline><li>433</li><li>8</li></ol>\n"
      ],
      "text/latex": [
       "\\begin{enumerate*}\n",
       "\\item 433\n",
       "\\item 8\n",
       "\\end{enumerate*}\n"
      ],
      "text/markdown": [
       "1. 433\n",
       "2. 8\n",
       "\n",
       "\n"
      ],
      "text/plain": [
       "[1] 433   8"
      ]
     },
     "metadata": {},
     "output_type": "display_data"
    }
   ],
   "source": [
    "#Rename zones for readability \n",
    "change_zone <- function(zone) {\n",
    "    #'Renames the zoning type based on the City of Austin's code. E.g. \"MF\" -> \"Multi Family\"\n",
    "    #'@param zone character\n",
    "    #'@return readable zone type (character)\n",
    "    \n",
    "    #Get frst two letters to check\n",
    "    prefix = substr(zone,1,2)\n",
    "    \n",
    "    #Convert to corresponding value\n",
    "    new_zone <- case_when(\n",
    "        prefix == \"SF\" ~ \"Single Family\",\n",
    "        prefix == \"MF\" ~ \"Multi Family\",\n",
    "        prefix == \"RR\" ~ \"Rural\",\n",
    "        prefix == \"TO\" ~ \"Transit Oriented Development\",\n",
    "        prefix == \"CS\" ~ \"Commercial\",\n",
    "        prefix == \"CB\" ~ \"Downtown\",\n",
    "        prefix == \"ER\" ~ \"East River Corridor\",\n",
    "        prefix == \"NB\" ~ \"Gateway District\", \n",
    "        prefix == \"PU\" ~ \"Planned Unit Development\",\n",
    "        prefix == \"GR\" ~ \"Community Commercial\",\n",
    "        TRUE ~ zone\n",
    "    )\n",
    "}\n",
    "\n",
    "z_and_h$base_zone <- as.character(lapply(z_and_h$base_zone,change_zone))\n",
    "\n",
    "#Check head and dimensions\n",
    "head(z_and_h)\n",
    "dim(z_and_h)"
   ]
  },
  {
   "cell_type": "markdown",
   "id": "0dd499a2-ea15-46ba-bf78-7a9289dc2c2a",
   "metadata": {},
   "source": [
    "#  Methods and Analysis \n",
    "\n",
    "Before creating the *main* data frame which contains information pertaining to the research question, I conducted some basic exploratory data analysis on the data. I examined the general breakdown of units by zoning type, the amount of units for differing zip codes as well as the number of zones each zip code has. In creating the *main* dataframe, I created columns that correspond to the number of units, the number of zones, and the proportion and number of single-family and multi-family zones within each zip. Moreover, I 'bucketed' zip codes as having 'few zones,' 'some zones,' or many zones by breaks of 40. This helped make the exploratory data analysis easier as I often forgot what constituted 'a lot' of zones. \n",
    "\n",
    "I then implemented two linear regressions to see how the proportions of single-family and multi-family zoning is related to the total amount of affordable housing units in a given zip code. To visualize the results, I created two scatter plots with linear trendlines plotted over both. \n",
    "\n",
    "I also created a relatively interactive choropleth map which displays the number of housing units in each zip-code, the proportion of single-family zones and total number of zones. I had to import another dataset that contained polygon references for each zip code. I did another join with the *main* dataset and then passed the data into the Leaflet library to create the map.\n"
   ]
  },
  {
   "cell_type": "code",
   "execution_count": 6,
   "id": "efc79fde-2d7e-44d4-af9c-99d0c97b46c0",
   "metadata": {},
   "outputs": [
    {
     "data": {
      "text/html": [
       "<table class=\"dataframe\">\n",
       "<caption>A tibble: 6 × 8</caption>\n",
       "<thead>\n",
       "\t<tr><th scope=col>zip_code</th><th scope=col>total_units</th><th scope=col>total_zones</th><th scope=col>num_sf</th><th scope=col>prop_sf</th><th scope=col>num_mf</th><th scope=col>prop_mf</th><th scope=col>zonage</th></tr>\n",
       "\t<tr><th scope=col>&lt;int&gt;</th><th scope=col>&lt;int&gt;</th><th scope=col>&lt;int&gt;</th><th scope=col>&lt;int&gt;</th><th scope=col>&lt;dbl&gt;</th><th scope=col>&lt;int&gt;</th><th scope=col>&lt;dbl&gt;</th><th scope=col>&lt;fct&gt;</th></tr>\n",
       "</thead>\n",
       "<tbody>\n",
       "\t<tr><td>78705</td><td>10738</td><td> 62</td><td> 0</td><td>0.00000000</td><td>44</td><td>0.7096774</td><td>Some Zones</td></tr>\n",
       "\t<tr><td>78702</td><td> 6077</td><td>111</td><td>37</td><td>0.33333333</td><td>30</td><td>0.2702703</td><td>Many Zones</td></tr>\n",
       "\t<tr><td>78723</td><td> 5598</td><td> 40</td><td> 2</td><td>0.05000000</td><td>23</td><td>0.5750000</td><td>Few Zones </td></tr>\n",
       "\t<tr><td>78704</td><td> 4785</td><td> 26</td><td> 1</td><td>0.03846154</td><td> 7</td><td>0.2692308</td><td>Few Zones </td></tr>\n",
       "\t<tr><td>78758</td><td> 4187</td><td> 20</td><td> 0</td><td>0.00000000</td><td> 3</td><td>0.1500000</td><td>Few Zones </td></tr>\n",
       "\t<tr><td>78741</td><td> 3625</td><td> 18</td><td> 2</td><td>0.11111111</td><td> 4</td><td>0.2222222</td><td>Few Zones </td></tr>\n",
       "</tbody>\n",
       "</table>\n"
      ],
      "text/latex": [
       "A tibble: 6 × 8\n",
       "\\begin{tabular}{llllllll}\n",
       " zip\\_code & total\\_units & total\\_zones & num\\_sf & prop\\_sf & num\\_mf & prop\\_mf & zonage\\\\\n",
       " <int> & <int> & <int> & <int> & <dbl> & <int> & <dbl> & <fct>\\\\\n",
       "\\hline\n",
       "\t 78705 & 10738 &  62 &  0 & 0.00000000 & 44 & 0.7096774 & Some Zones\\\\\n",
       "\t 78702 &  6077 & 111 & 37 & 0.33333333 & 30 & 0.2702703 & Many Zones\\\\\n",
       "\t 78723 &  5598 &  40 &  2 & 0.05000000 & 23 & 0.5750000 & Few Zones \\\\\n",
       "\t 78704 &  4785 &  26 &  1 & 0.03846154 &  7 & 0.2692308 & Few Zones \\\\\n",
       "\t 78758 &  4187 &  20 &  0 & 0.00000000 &  3 & 0.1500000 & Few Zones \\\\\n",
       "\t 78741 &  3625 &  18 &  2 & 0.11111111 &  4 & 0.2222222 & Few Zones \\\\\n",
       "\\end{tabular}\n"
      ],
      "text/markdown": [
       "\n",
       "A tibble: 6 × 8\n",
       "\n",
       "| zip_code &lt;int&gt; | total_units &lt;int&gt; | total_zones &lt;int&gt; | num_sf &lt;int&gt; | prop_sf &lt;dbl&gt; | num_mf &lt;int&gt; | prop_mf &lt;dbl&gt; | zonage &lt;fct&gt; |\n",
       "|---|---|---|---|---|---|---|---|\n",
       "| 78705 | 10738 |  62 |  0 | 0.00000000 | 44 | 0.7096774 | Some Zones |\n",
       "| 78702 |  6077 | 111 | 37 | 0.33333333 | 30 | 0.2702703 | Many Zones |\n",
       "| 78723 |  5598 |  40 |  2 | 0.05000000 | 23 | 0.5750000 | Few Zones  |\n",
       "| 78704 |  4785 |  26 |  1 | 0.03846154 |  7 | 0.2692308 | Few Zones  |\n",
       "| 78758 |  4187 |  20 |  0 | 0.00000000 |  3 | 0.1500000 | Few Zones  |\n",
       "| 78741 |  3625 |  18 |  2 | 0.11111111 |  4 | 0.2222222 | Few Zones  |\n",
       "\n"
      ],
      "text/plain": [
       "  zip_code total_units total_zones num_sf prop_sf    num_mf prop_mf  \n",
       "1 78705    10738        62          0     0.00000000 44     0.7096774\n",
       "2 78702     6077       111         37     0.33333333 30     0.2702703\n",
       "3 78723     5598        40          2     0.05000000 23     0.5750000\n",
       "4 78704     4785        26          1     0.03846154  7     0.2692308\n",
       "5 78758     4187        20          0     0.00000000  3     0.1500000\n",
       "6 78741     3625        18          2     0.11111111  4     0.2222222\n",
       "  zonage    \n",
       "1 Some Zones\n",
       "2 Many Zones\n",
       "3 Few Zones \n",
       "4 Few Zones \n",
       "5 Few Zones \n",
       "6 Few Zones "
      ]
     },
     "metadata": {},
     "output_type": "display_data"
    }
   ],
   "source": [
    "### Dataframes Used in Exploratory Data Analysis ### \n",
    "\n",
    "#Units by zoning type\n",
    "units_by_zone <- z_and_h %>%\n",
    "    group_by(base_zone) %>%\n",
    "    summarize(total_units = sum(total_units)) %>%\n",
    "    arrange(desc(total_units))\n",
    "\n",
    "#Total units by zip \n",
    "units_by_zip <- z_and_h %>%\n",
    "    group_by(zip_code) %>%\n",
    "    summarize(total_units = sum(total_units)) %>%\n",
    "    arrange(desc(total_units))\n",
    "\n",
    "#Zones by zipcode\n",
    "zones_by_zip <- z_and_h %>%\n",
    "    group_by(zip_code) %>%\n",
    "    summarize(zoning_totals = n()) %>%\n",
    "    arrange(desc(zoning_totals), desc(zip_code)) \n",
    "\n",
    "#Proportions of mf and sf and relation to total units\n",
    "main <- z_and_h %>%\n",
    "    group_by(zip_code) %>%\n",
    "    summarize(total_units = sum(total_units, na.rm=TRUE), total_zones = n(), \n",
    "             num_sf = sum(base_zone == \"Single Family\"), prop_sf=num_sf / total_zones, \n",
    "            num_mf = sum(base_zone == \"Multi Family\"), prop_mf=num_mf / total_zones) %>%\n",
    "    mutate(zonage = cut(total_zones, breaks=seq(0,120,40), labels=c(\"Few Zones\", \"Some Zones\", \"Many Zones\"))) %>%\n",
    "    filter(total_units > 150) %>%\n",
    "    arrange(desc(total_units))\n",
    "\n",
    "head(main)\n",
    "\n",
    "#Write to file for use in r-studio\n",
    "write.csv(main, \"main.csv\")"
   ]
  },
  {
   "cell_type": "code",
   "execution_count": null,
   "id": "3e0da298-5e71-4805-ba73-11e71a4af1a2",
   "metadata": {},
   "outputs": [],
   "source": [
    "### Code that was executed in r-studio to create choropleth ###\n",
    "\n",
    "#Re-read in data and join with polygon dataset by zip\n",
    "main <- read.csv(\"main.csv\")\n",
    "bounds <- Boundaries_Zip_Code_Tabulation_Areas_2017 %>%\n",
    "    rename('zip_code' = 'Zip Code') %>%\n",
    "    select(the_geom, zip_code)\n",
    "main_boundaries <- left_join(main, bounds, by=\"zip_code\")\n",
    "\n",
    "#Create as sf object for leaflet\n",
    "mb_sf <- st_as_sf(main_boundaries)\n",
    "\n",
    "\n",
    "#Creating a color palette\n",
    "pal <- colorNumeric(\n",
    "  palette = \"YlOrRd\",\n",
    "  domain = mb_sf$total_units\n",
    ")\n",
    "\n",
    "#Creating mouse-over html text boxes\n",
    "hover_text <- paste(\n",
    "  \"Number of Zones: \", mb_sf$total_zones, \"<br/>\",\n",
    "  \"Proportion of Single-Family Zones: \", round(mb_sf$prop_sf,2),\"<br/>\", \n",
    "  \"Proportion of Multi-Family Zones: \", round(mb_sf$prop_mf,2),\"<br/>\", \n",
    "  \"Total Units: \", mb_sf$total_units,\n",
    "  sep=\"\") %>%\n",
    "  lapply(htmltools::HTML)\n",
    "\n",
    "#Generating the map\n",
    "leaflet(mb_sf) %>%\n",
    "  setView(-97.74, 30.27, 9) %>%\n",
    "  addProviderTiles(providers$Stamen.Toner) %>%\n",
    "  addPolygons(color = \"black\", fillColor = ~colorNumeric(\"YlOrRd\", total_units)(total_units),\n",
    "              weight = 1, \n",
    "              opacity = 1,\n",
    "              fillOpacity = .7, \n",
    "              dashArray = \"3\", \n",
    "              label = hover_text,\n",
    "              labelOptions = labelOptions( \n",
    "                style = list(\"font-weight\" = \"normal\", padding = \"3px 8px\"), \n",
    "                textsize = \"13px\", \n",
    "                direction = \"auto\"\n",
    "              ),\n",
    "              highlightOptions = highlightOptions(\n",
    "                weight = 2,\n",
    "                color = \"black\",\n",
    "                dashArray = \"\",\n",
    "                fillOpacity = 0.7,\n",
    "                bringToFront = TRUE)\n",
    "              ) %>%\n",
    "  addLegend(pal = pal, values = ~total_units, opacity = 0.8, title = \"Total Affordable Housing Units\",\n",
    "            position = \"bottomright\")"
   ]
  },
  {
   "cell_type": "markdown",
   "id": "a2ccf0c5-2c1e-410b-a4ce-784f5f91e6ac",
   "metadata": {},
   "source": [
    "# Results and Conclusion\n",
    "Using the standard significance level of 0.05 for the linear regression models, it's safe to say that proportion of single-family and multi-family zoning is not significantly related to the total number of housing units as the models' p-values are 0.59 and 0.20 respectively. \n",
    "\n",
    "There is a negative relationship between the number of affordable housing units and the proportion of zoning that is single-family. The regression estimates that an increase from no single-family zones to all single-family zones in a given zip would decrease the total housing units by about 1,500. In percentage terms, increasing the number of single family zones by 10% would correspond to an estimated decrease of 150 affordable housing units.\n",
    "\n",
    "On the other hand, there is a positive relationship between the proportion of multi-family zones and the number of affordable housing units. From the linear regression's estimate, a 10% increase in multi-family zones would correspond to an estimated increase of 220 housing units. \n",
    "\n",
    "**Of course, given that the regressions don't fit the data well, these estimates should be taken with a grain of salt.**"
   ]
  },
  {
   "cell_type": "code",
   "execution_count": 7,
   "id": "5ab68f6d-1881-40ea-866b-25a09b193a12",
   "metadata": {},
   "outputs": [
    {
     "data": {
      "text/plain": [
       "\n",
       "Call:\n",
       "lm(formula = total_units ~ prop_sf, data = main)\n",
       "\n",
       "Residuals:\n",
       "    Min      1Q  Median      3Q     Max \n",
       "-2197.4 -1528.0  -781.5   409.6  8380.6 \n",
       "\n",
       "Coefficients:\n",
       "            Estimate Std. Error t value Pr(>|t|)    \n",
       "(Intercept)   2357.4      613.9   3.840 0.000836 ***\n",
       "prop_sf      -1493.8     2758.6  -0.542 0.593364    \n",
       "---\n",
       "Signif. codes:  0 ‘***’ 0.001 ‘**’ 0.01 ‘*’ 0.05 ‘.’ 0.1 ‘ ’ 1\n",
       "\n",
       "Residual standard error: 2533 on 23 degrees of freedom\n",
       "Multiple R-squared:  0.01259,\tAdjusted R-squared:  -0.03034 \n",
       "F-statistic: 0.2932 on 1 and 23 DF,  p-value: 0.5934\n"
      ]
     },
     "metadata": {},
     "output_type": "display_data"
    },
    {
     "data": {
      "text/plain": [
       "\n",
       "Call:\n",
       "lm(formula = total_units ~ prop_mf, data = main)\n",
       "\n",
       "Residuals:\n",
       "    Min      1Q  Median      3Q     Max \n",
       "-3683.6 -1304.9  -786.8  1137.1  7537.1 \n",
       "\n",
       "Coefficients:\n",
       "            Estimate Std. Error t value Pr(>|t|)  \n",
       "(Intercept)   1629.9      640.8   2.543   0.0182 *\n",
       "prop_mf       2213.7     1685.9   1.313   0.2021  \n",
       "---\n",
       "Signif. codes:  0 ‘***’ 0.001 ‘**’ 0.01 ‘*’ 0.05 ‘.’ 0.1 ‘ ’ 1\n",
       "\n",
       "Residual standard error: 2458 on 23 degrees of freedom\n",
       "Multiple R-squared:  0.06974,\tAdjusted R-squared:  0.02929 \n",
       "F-statistic: 1.724 on 1 and 23 DF,  p-value: 0.2021\n"
      ]
     },
     "metadata": {},
     "output_type": "display_data"
    }
   ],
   "source": [
    "#Get results of model for prop_sf and prop_mf\n",
    "summary(lm(total_units ~ prop_sf, data=main))\n",
    "summary(lm(total_units ~ prop_mf, data=main))"
   ]
  },
  {
   "cell_type": "markdown",
   "id": "685fc6b6-8354-450b-87d4-bfd3f0aeb76d",
   "metadata": {},
   "source": [
    "In visualizing the data for single family zoning, we see a relatively weak negative relationship between proportion of single family zones and housing outcomes. We also see that most of the zip-codes in our dataset fall under the 'few zones' category (under 40 zones). Most of the zipcodes in our dataset have under 2,500 housing units, and the ones that have more tend to have lower proportions of single-family zoning, although they have few zones overall. These are likely zip codes that contain a few zones that regularly see multi-unit dwellings developed (e.g Commerical zones). It would make sense for zip codes in or near downtown to have a small number of distinct zoning designations that generally permit multi-unit dwellings.\n",
    "\n",
    "On the flip side, we see a weak positive trend between the proportion of multi-unit zones and the total available housing units. There is a notable outlier in the data that has a high proportion of multi-family lots (greater than .65) and over 10,000 housing units. I would guess this is a zip-code thats zoning has deliberately been made to accomodate multi-family, affordable housing units. "
   ]
  },
  {
   "cell_type": "code",
   "execution_count": 8,
   "id": "f5947d1d-d177-4984-b76b-45246ad43664",
   "metadata": {},
   "outputs": [
    {
     "data": {
      "image/png": "[encoded data removed]",
      "text/plain": [
       "plot without title"
      ]
     },
     "metadata": {
      "image/png": {
       "height": 420,
       "width": 420
      }
     },
     "output_type": "display_data"
    },
    {
     "data": {
      "image/png": "[encoded data removed]",
      "text/plain": [
       "plot without title"
      ]
     },
     "metadata": {
      "image/png": {
       "height": 420,
       "width": 420
      }
     },
     "output_type": "display_data"
    }
   ],
   "source": [
    "### Visualize with scatter plots and trendlines ###\n",
    "sf_plot <- ggplot(data=main, aes(x=prop_sf, y=total_units)) +\n",
    "    geom_point(aes(size=num_sf, color=zonage), alpha=0.9) +\n",
    "    scale_color_brewer(palette=\"RdYlGn\", name=\"Amount of Zones\") +\n",
    "    scale_size_continuous(breaks=c(10,20,30,40), name=\"Single-Family Lots\") +\n",
    "    scale_x_continuous(breaks = c(0, .25, .50, .75, 1.0)) +\n",
    "    scale_y_continuous(breaks = c(0, 2500, 5000, 7500, 10000)) +\n",
    "    geom_smooth(method='lm', formula = 'y ~ x') +\n",
    "    labs(y=\"Total Affordable Housing Units\", x=\"Proportion of Single Family Lots\")\n",
    "\n",
    "mf_plot <- ggplot(data=main, aes(x=prop_mf, y=total_units)) +\n",
    "    geom_point(aes(size=num_mf, color=zonage), alpha=0.9) +\n",
    "    scale_color_brewer(palette=\"RdYlGn\",name=\"Amount of Zones\") +\n",
    "    scale_size_continuous(breaks=c(10,20,30,40), name=\"Multi-Family Lots\") +\n",
    "    scale_x_continuous(breaks = c(0, .25, .50, .75, 1.0)) +\n",
    "    scale_y_continuous(breaks = c(0, 2500, 5000, 7500, 10000)) +\n",
    "    geom_smooth(method='lm', formula = 'y ~ x') +\n",
    "    labs(y=\"Total Affordable Housing Units\", x=\"Proportion of Multi Family Lots\")\n",
    "\n",
    "sf_plot\n",
    "mf_plot"
   ]
  },
  {
   "cell_type": "markdown",
   "id": "efcbf1dd-3d68-42d1-8890-831df9ccc57a",
   "metadata": {},
   "source": [
    "The choropleth map helps visualize the breakdown geographically. I published the map here as Leaflet was unable to load in JupyterHub:\n",
    "https://rpubs.com/micah_bruning/828122\n",
    "\n",
    "As we can expect, the zip codes further away from the city's core have higher proportions of zones devoted to single-family housing, with a few exceptions. The zip code with the most units -- over 10,000 -- is home to the University of Texas at Austin so it's consistent that there would also be no single-family zones in this area. Overall, though, the map has mixed results -- some zip codes with relatively high proportions of single-family zones have a lot of units while others do not. \n"
   ]
  },
  {
   "cell_type": "markdown",
   "id": "c9f1d85e-11e8-4bba-9ff4-f9ba6333bb5c",
   "metadata": {},
   "source": [
    "# Conclusion"
   ]
  },
  {
   "cell_type": "markdown",
   "id": "1a20c08e-d781-4341-940c-2f4dfd01a5db",
   "metadata": {},
   "source": [
    "In the city of Austin, the proportion of single-family zones in a given zip-code is not a strong indicator for the total number of affordable housing units. \n",
    "\n",
    "The main limitation of this conclusion is that a significant amount of data was lost. In the *housing* dataframe, roughly 1,500 of the buildings' addresses had 'undisclosed' as their value so I had to filter these out. Moreover, when joining the *housing* data with the *zoning* data there were 100 records that did not match and had to be dropped. A true analysis of the city's affordable housing landscape would need the addresses of those 1,500 buildings, as well as a cleaner method of joining the datasets together (ideally by zip-code).\n",
    "\n",
    "It's possible we'd see a stronger negative relationship between proportion of single-family zoning and total units if the data was complete. The proportion of multi-family units' positive, although weak, relationship with total units suggests that zoning proportion may be some indicator for housing outcomes. It's also reasonable to expect zoning in general to play a large role in how easily affordable housing can be developed. "
   ]
  }
 ],
 "metadata": {
  "kernelspec": {
   "display_name": "R",
   "language": "R",
   "name": "ir"
  },
  "language_info": {
   "codemirror_mode": "r",
   "file_extension": ".r",
   "mimetype": "text/x-r-source",
   "name": "R",
   "pygments_lexer": "r",
   "version": "4.0.5"
  },
  "toc-showcode": true,
  "toc-showmarkdowntxt": true
 },
 "nbformat": 4,
 "nbformat_minor": 5
}
